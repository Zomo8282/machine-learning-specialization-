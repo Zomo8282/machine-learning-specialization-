{
 "cells": [
  {
   "cell_type": "code",
   "execution_count": 26,
   "metadata": {},
   "outputs": [],
   "source": [
    "import tensorflow as tf \n",
    "import pandas as pd \n",
    "from keras.models import Sequential\n",
    "from tensorflow.keras.layers  import Dense\n",
    "from tensorflow.keras.losses import BinaryCrossentropy \n",
    "from sklearn.datasets import make_blobs\n"
   ]
  },
  {
   "cell_type": "code",
   "execution_count": 30,
   "metadata": {},
   "outputs": [],
   "source": []
  },
  {
   "cell_type": "code",
   "execution_count": 28,
   "metadata": {},
   "outputs": [],
   "source": [
    "model=Sequential([\n",
    "Dense(units=25,activation=\"relu\"),\n",
    "Dense(units=10,activation=\"relu\"),\n",
    "Dense(units=1,activation=\"linear\")])\n"
   ]
  },
  {
   "cell_type": "code",
   "execution_count": 29,
   "metadata": {},
   "outputs": [],
   "source": [
    "model.compile(optimizer=\"adam\",loss=BinaryCrossentropy(from_logits=True))"
   ]
  },
  {
   "cell_type": "code",
   "execution_count": null,
   "metadata": {},
   "outputs": [],
   "source": [
    "model.fit(x,y,epoches=10)"
   ]
  },
  {
   "cell_type": "code",
   "execution_count": null,
   "metadata": {},
   "outputs": [],
   "source": [
    "logit=model(x)\n",
    "predict=tf.nn.sigmoid(logit) # tf.nn.softmax"
   ]
  },
  {
   "cell_type": "markdown",
   "metadata": {},
   "source": [
    "# Multicalss NN classification\n"
   ]
  },
  {
   "cell_type": "code",
   "execution_count": 90,
   "metadata": {},
   "outputs": [],
   "source": [
    "from tensorflow.keras.losses import SparseCategoricalCrossentropy \n",
    "import tensorflow as tf \n",
    "import pandas as pd \n",
    "from keras.models import Sequential\n",
    "from tensorflow.keras.layers  import Dense"
   ]
  },
  {
   "cell_type": "code",
   "execution_count": 91,
   "metadata": {},
   "outputs": [],
   "source": [
    "# make  dataset for example\n",
    "centers = [[-5, 2], [-2, -2], [1, 2], [5, -2]]\n",
    "x, y = make_blobs(n_samples=2000, centers=centers, cluster_std=1.0,random_state=30)"
   ]
  },
  {
   "cell_type": "code",
   "execution_count": 92,
   "metadata": {},
   "outputs": [],
   "source": [
    "#10 class calssifcation \n",
    "model=Sequential([\n",
    "Dense(units=25,activation=\"relu\"),\n",
    "Dense(units=15,activation=\"relu\"),\n",
    "Dense(units=4,activation=\"linear\")])# 10 out put unit for 10 lables \n"
   ]
  },
  {
   "cell_type": "code",
   "execution_count": 93,
   "metadata": {},
   "outputs": [],
   "source": [
    "model.compile(optimizer=\"adam\",loss=SparseCategoricalCrossentropy(from_logits=True))"
   ]
  },
  {
   "cell_type": "code",
   "execution_count": 94,
   "metadata": {},
   "outputs": [
    {
     "name": "stdout",
     "output_type": "stream",
     "text": [
      "Epoch 1/10\n",
      "63/63 [==============================] - 2s 4ms/step - loss: 0.9207\n",
      "Epoch 2/10\n",
      "63/63 [==============================] - 0s 4ms/step - loss: 0.4510\n",
      "Epoch 3/10\n",
      "63/63 [==============================] - 0s 4ms/step - loss: 0.2003\n",
      "Epoch 4/10\n",
      "63/63 [==============================] - 0s 4ms/step - loss: 0.1083\n",
      "Epoch 5/10\n",
      "63/63 [==============================] - 0s 4ms/step - loss: 0.0757\n",
      "Epoch 6/10\n",
      "63/63 [==============================] - 0s 3ms/step - loss: 0.0610\n",
      "Epoch 7/10\n",
      "63/63 [==============================] - 0s 4ms/step - loss: 0.0528\n",
      "Epoch 8/10\n",
      "63/63 [==============================] - 0s 4ms/step - loss: 0.0472\n",
      "Epoch 9/10\n",
      "63/63 [==============================] - 0s 4ms/step - loss: 0.0434\n",
      "Epoch 10/10\n",
      "63/63 [==============================] - 0s 4ms/step - loss: 0.0405\n"
     ]
    },
    {
     "data": {
      "text/plain": [
       "<keras.src.callbacks.History at 0x1aeb38e89a0>"
      ]
     },
     "execution_count": 94,
     "metadata": {},
     "output_type": "execute_result"
    }
   ],
   "source": [
    "model.fit(x,y,epochs=10)"
   ]
  },
  {
   "cell_type": "code",
   "execution_count": 97,
   "metadata": {},
   "outputs": [
    {
     "name": "stdout",
     "output_type": "stream",
     "text": [
      "63/63 [==============================] - 0s 3ms/step\n"
     ]
    }
   ],
   "source": [
    "p=model.predict(x)"
   ]
  },
  {
   "cell_type": "code",
   "execution_count": 98,
   "metadata": {},
   "outputs": [
    {
     "name": "stdout",
     "output_type": "stream",
     "text": [
      "[-1.4198396  -2.3858075   3.3681962  -0.21591252], category: 2\n",
      "[  3.365882   -2.1378412  -6.494615  -11.891359 ], category: 0\n",
      "[ 2.2153552 -1.1995846 -5.1525464 -9.264726 ], category: 0\n",
      "[-2.2374473  2.6981502 -4.2515435 -3.874264 ], category: 1\n",
      "[ 0.36234325 -4.650626    6.072519   -3.9451854 ], category: 2\n"
     ]
    }
   ],
   "source": [
    "import numpy as np\n",
    "for i in range(5):\n",
    "    print( f\"{p[i]}, category: {np.argmax(p[i])}\")"
   ]
  },
  {
   "cell_type": "code",
   "execution_count": 101,
   "metadata": {},
   "outputs": [
    {
     "name": "stdout",
     "output_type": "stream",
     "text": [
      "63/63 [==============================] - 0s 3ms/step\n",
      "two example output vectors:\n",
      " [[ -1.4198396   -2.3858075    3.3681962   -0.21591252]\n",
      " [  3.365882    -2.1378412   -6.494615   -11.891359  ]]\n",
      "largest value 9.693137 smallest value -19.705374\n"
     ]
    }
   ],
   "source": [
    "p = model.predict(x)\n",
    "print(f\"two example output vectors:\\n {p[:2]}\")\n",
    "print(\"largest value\", np.max(p), \"smallest value\", np.min([p]))"
   ]
  },
  {
   "cell_type": "code",
   "execution_count": 102,
   "metadata": {},
   "outputs": [
    {
     "name": "stdout",
     "output_type": "stream",
     "text": [
      "['-1.420', '-2.386', '3.368', '-0.216'], category: 2\n",
      "['3.366', '-2.138', '-6.495', '-11.891'], category: 0\n",
      "['2.215', '-1.200', '-5.153', '-9.265'], category: 0\n",
      "['-2.237', '2.698', '-4.252', '-3.874'], category: 1\n",
      "['0.362', '-4.651', '6.073', '-3.945'], category: 2\n"
     ]
    }
   ],
   "source": [
    "for i in range(5):\n",
    "    formatted_values = [f\"{val:.3f}\" for val in p[i]]\n",
    "    category = np.argmax(p[i])\n",
    "    print(f\"{formatted_values}, category: {category}\")"
   ]
  },
  {
   "cell_type": "code",
   "execution_count": null,
   "metadata": {},
   "outputs": [],
   "source": []
  },
  {
   "cell_type": "code",
   "execution_count": null,
   "metadata": {},
   "outputs": [],
   "source": []
  }
 ],
 "metadata": {
  "kernelspec": {
   "display_name": "Python 3",
   "language": "python",
   "name": "python3"
  },
  "language_info": {
   "codemirror_mode": {
    "name": "ipython",
    "version": 3
   },
   "file_extension": ".py",
   "mimetype": "text/x-python",
   "name": "python",
   "nbconvert_exporter": "python",
   "pygments_lexer": "ipython3",
   "version": "3.8.5"
  }
 },
 "nbformat": 4,
 "nbformat_minor": 4
}
